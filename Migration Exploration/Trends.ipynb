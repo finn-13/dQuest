{
 "cells": [
  {
   "cell_type": "markdown",
   "metadata": {},
   "source": [
    "# Data Sources for Migration Exploring"
   ]
  },
  {
   "cell_type": "markdown",
   "metadata": {},
   "source": [
    "Australian Be\n",
    "https://data.gov.au/data/dataset/2fe5e2a9-8a3d-4dcf-baec-c5147d953150/resource/b59a15df-86ea-4c4c-95be-4dd9fc9f8ac4/download/2019-20-historical-migration-statistics-locked.xlsx"
   ]
  },
  {
   "cell_type": "code",
   "execution_count": 1,
   "metadata": {},
   "outputs": [],
   "source": [
    "import urllib\n",
    "from urllib import request"
   ]
  },
  {
   "cell_type": "code",
   "execution_count": 7,
   "metadata": {},
   "outputs": [
    {
     "name": "stdout",
     "output_type": "stream",
     "text": [
      "b'{\"help\": \"https://data.gov.au/data/api/3/action/help_show?name=datastore_search\", \"success\": true, \"result\": {\"include_total\": true, \"resource_id\": \"b59a15df-86ea-4c4c-95be-4dd9fc9f8ac4\", \"fields\": [{\"type\": \"int\", \"id\": \"_id\"}, {\"type\": \"text\", \"id\": \"A hyperlink called Click here to return to the contents page is\"}], \"records_format\": \"objects\", \"records\": [{\"_id\":1,\"A hyperlink called Click here to return to the contents page is\":null},{\"_id\":2,\"A hyperlink called Click here to return to the contents page is\":null},{\"_id\":3,\"A hyperlink called Click here to return to the contents page is\":null},{\"_id\":4,\"A hyperlink called Click here to return to the contents page is\":null},{\"_id\":5,\"A hyperlink called Click here to return to the contents page is\":null}], \"limit\": 5, \"_links\": {\"start\": \"/api/3/action/datastore_search?limit=5&resource_id=b59a15df-86ea-4c4c-95be-4dd9fc9f8ac4\", \"next\": \"/api/3/action/datastore_search?offset=5&limit=5&resource_id=b59a15df-86ea-4c4c-95be-4dd9fc9f8ac4\"}, \"total\": 71}}'\n"
     ]
    }
   ],
   "source": [
    "url = 'https://data.gov.au/data/api/3/action/datastore_search?resource_id=b59a15df-86ea-4c4c-95be-4dd9fc9f8ac4&limit=5'\n",
    "fileobj = request.urlopen(url)\n",
    "print(fileobj.read())"
   ]
  }
 ],
 "metadata": {
  "kernelspec": {
   "display_name": "Python 3 (Data Science)",
   "language": "python",
   "name": "python3__SAGEMAKER_INTERNAL__arn:aws:sagemaker:ap-southeast-2:452832661640:image/datascience-1.0"
  },
  "language_info": {
   "codemirror_mode": {
    "name": "ipython",
    "version": 3
   },
   "file_extension": ".py",
   "mimetype": "text/x-python",
   "name": "python",
   "nbconvert_exporter": "python",
   "pygments_lexer": "ipython3",
   "version": "3.7.10"
  }
 },
 "nbformat": 4,
 "nbformat_minor": 4
}
